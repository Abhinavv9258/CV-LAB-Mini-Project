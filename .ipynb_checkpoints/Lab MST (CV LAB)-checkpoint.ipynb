{
 "cells": [
  {
   "cell_type": "code",
   "execution_count": 1,
   "id": "cb36049e",
   "metadata": {},
   "outputs": [
    {
     "name": "stdout",
     "output_type": "stream",
     "text": [
      "Defaulting to user installation because normal site-packages is not writeable\n",
      "Collecting face_recognition\n",
      "  Using cached face_recognition-1.3.0-py2.py3-none-any.whl (15 kB)\n",
      "Collecting face-recognition-models>=0.3.0 (from face_recognition)\n",
      "  Using cached face_recognition_models-0.3.0-py2.py3-none-any.whl\n",
      "Requirement already satisfied: Click>=6.0 in c:\\programdata\\anaconda3\\lib\\site-packages (from face_recognition) (8.0.4)\n",
      "Collecting dlib>=19.7 (from face_recognition)\n",
      "  Using cached dlib-19.24.2.tar.gz (11.8 MB)\n",
      "  Installing build dependencies: started\n",
      "  Installing build dependencies: finished with status 'done'\n",
      "  Getting requirements to build wheel: started\n",
      "  Getting requirements to build wheel: finished with status 'done'\n",
      "  Preparing metadata (pyproject.toml): started\n",
      "  Preparing metadata (pyproject.toml): finished with status 'done'\n",
      "Requirement already satisfied: numpy in c:\\programdata\\anaconda3\\lib\\site-packages (from face_recognition) (1.24.3)\n",
      "Requirement already satisfied: Pillow in c:\\programdata\\anaconda3\\lib\\site-packages (from face_recognition) (9.4.0)\n",
      "Requirement already satisfied: colorama in c:\\programdata\\anaconda3\\lib\\site-packages (from Click>=6.0->face_recognition) (0.4.6)\n",
      "Building wheels for collected packages: dlib\n",
      "  Building wheel for dlib (pyproject.toml): started\n",
      "  Building wheel for dlib (pyproject.toml): still running...\n",
      "  Building wheel for dlib (pyproject.toml): still running...\n",
      "  Building wheel for dlib (pyproject.toml): finished with status 'done'\n",
      "  Created wheel for dlib: filename=dlib-19.24.2-cp311-cp311-win_amd64.whl size=2846135 sha256=f1b2a5b82640045b15b42cbd2be42a4897db76844a7dcff96e7d7eb0c6bdd5be\n",
      "  Stored in directory: c:\\users\\abhinav\\appdata\\local\\pip\\cache\\wheels\\61\\05\\62\\44b0bf18a0f8f9a0d65337b11237ecf12926d0d6e3807500bb\n",
      "Successfully built dlib\n",
      "Installing collected packages: face-recognition-models, dlib, face_recognition\n",
      "Successfully installed dlib-19.24.2 face-recognition-models-0.3.0 face_recognition-1.3.0\n",
      "Defaulting to user installation because normal site-packages is not writeable\n",
      "Requirement already satisfied: opencv-python in c:\\users\\abhinav\\appdata\\roaming\\python\\python311\\site-packages (4.8.1.78)\n",
      "Requirement already satisfied: numpy>=1.21.2 in c:\\programdata\\anaconda3\\lib\\site-packages (from opencv-python) (1.24.3)\n"
     ]
    }
   ],
   "source": [
    "!pip install face_recognition\n",
    "!pip install opencv-python"
   ]
  },
  {
   "cell_type": "code",
   "execution_count": 1,
   "id": "b596821c",
   "metadata": {},
   "outputs": [],
   "source": [
    "import cv2\n",
    "import numpy as np\n",
    "import face_recognition\n",
    "import os"
   ]
  },
  {
   "cell_type": "code",
   "execution_count": 2,
   "id": "dfbe84c0",
   "metadata": {},
   "outputs": [],
   "source": [
    "# importing images\n",
    "path = 'Images'\n",
    "# list of images\n",
    "images = []\n",
    "# writing names of each image\n",
    "classNames = []\n",
    "# pathing list of images in folder\n",
    "myList = os.listdir(path)\n",
    "\n",
    "# importing images one by one\n",
    "for cl in myList:\n",
    "    curImg = cv2.imread(f'{path}/{cl}')  # reading images from path folder cl is name of image\n",
    "    images.append(curImg)\n",
    "    # appending class name and converting abhinav .jpg to abhinav using splitext\n",
    "    classNames.append(os.path.splitext(cl)[0])"
   ]
  },
  {
   "cell_type": "code",
   "execution_count": 3,
   "id": "99e8b329",
   "metadata": {},
   "outputs": [],
   "source": [
    "# computing encoding for each image\n",
    "def findEncodings(images):\n",
    "    # creating empty list for encoding\n",
    "    encodeList = []\n",
    "    # looping all images\n",
    "    for img in images:\n",
    "        # converting image to rgb\n",
    "        img = cv2.cvtColor(img, cv2.COLOR_BGR2RGB)\n",
    "        # finding encodings\n",
    "        encode = face_recognition.face_encodings(img)[0]\n",
    "        # appending it to the list\n",
    "        encodeList.append(encode)\n",
    "    return encodeList"
   ]
  },
  {
   "cell_type": "code",
   "execution_count": 4,
   "id": "ef3c6c85",
   "metadata": {},
   "outputs": [
    {
     "name": "stdout",
     "output_type": "stream",
     "text": [
      "Encoding Complete\n"
     ]
    }
   ],
   "source": [
    "# calling findEncodings method\n",
    "encodeListKnown = findEncodings(images)\n",
    "# print(len(encodeListKnown))\n",
    "print('Encoding Complete')"
   ]
  },
  {
   "cell_type": "code",
   "execution_count": 1,
   "id": "298621ab",
   "metadata": {},
   "outputs": [
    {
     "ename": "NameError",
     "evalue": "name 'cv2' is not defined",
     "output_type": "error",
     "traceback": [
      "\u001b[1;31m---------------------------------------------------------------------------\u001b[0m",
      "\u001b[1;31mNameError\u001b[0m                                 Traceback (most recent call last)",
      "Cell \u001b[1;32mIn[1], line 2\u001b[0m\n\u001b[0;32m      1\u001b[0m \u001b[38;5;66;03m# initialize webcam to capture image\u001b[39;00m\n\u001b[1;32m----> 2\u001b[0m cap \u001b[38;5;241m=\u001b[39m cv2\u001b[38;5;241m.\u001b[39mVideoCapture(\u001b[38;5;241m0\u001b[39m)\n\u001b[0;32m      4\u001b[0m \u001b[38;5;28;01mwhile\u001b[39;00m \u001b[38;5;28;01mTrue\u001b[39;00m:\n\u001b[0;32m      5\u001b[0m     success, img \u001b[38;5;241m=\u001b[39m cap\u001b[38;5;241m.\u001b[39mread() \u001b[38;5;66;03m# it will give image\u001b[39;00m\n",
      "\u001b[1;31mNameError\u001b[0m: name 'cv2' is not defined"
     ]
    }
   ],
   "source": [
    "# initialize webcam to capture image\n",
    "cap = cv2.VideoCapture(0)\n",
    "\n",
    "while True:\n",
    "    success, img = cap.read() # it will give image\n",
    "    imgS = cv2.resize(img, (0, 0), None, 0.25, 0.25) # compressing image\n",
    "    imgS = cv2.cvtColor(imgS, cv2.COLOR_BGR2RGB) # converting it to rgb\n",
    "    # finding location of faces\n",
    "    facesCurFrame = face_recognition.face_locations(imgS)\n",
    "    # finding encoding of images\n",
    "    encodeCurFrame = face_recognition.face_encodings(imgS, facesCurFrame)\n",
    "\n",
    "    # iterating to all faces and comparing with webcam image\n",
    "    # it will grab one face location from facesCurFrame list And it will grab encoding encodeFace from encodeCurFrame\n",
    "    for encodeFace, faceLoc in zip(encodeCurFrame, facesCurFrame):\n",
    "        # matching/comparing images with encodeFace\n",
    "        matches = face_recognition.compare_faces(encodeListKnown, encodeFace)\n",
    "        # finding distance\n",
    "        faceDis = face_recognition.face_distance(encodeListKnown, encodeFace)\n",
    "\n",
    "        # print(faceDis) # will return list with distances And the lowest distance is the best matching\n",
    "        # finding the lowest element index in list\n",
    "        matchIndex = np.argmin(faceDis)\n",
    "\n",
    "        # display rectangle box around face and name them\n",
    "        if matches[matchIndex]:\n",
    "            name = classNames[matchIndex].upper()\n",
    "            # print(name)\n",
    "            # finding locations of face\n",
    "            y1, x2, y2, x1 = faceLoc\n",
    "            # decompressing image\n",
    "            y1, x2, y2, x1 = y1 * 4, x2 * 4, y2 * 4, x1 * 4\n",
    "            # creating rectangle box\n",
    "            cv2.rectangle(img, (x1, y1), (x2, y2), (0, 255, 0), 2) # (0, 255, 0) color, thickness 2\n",
    "            # creating other rectangle for name\n",
    "            cv2.rectangle(img, (x1, y2 - 35), (x2, y2), (0, 255, 0), cv2.FILLED)\n",
    "            # putting name\n",
    "            cv2.putText(img, name, (x1 + 6, y2 - 6), cv2.FONT_HERSHEY_COMPLEX, 1, (255, 255, 255), 2)\n",
    "\n",
    "    # showing image\n",
    "    cv2.imshow('Webcam', img)\n",
    "    if cv2.waitKey(1) & 0xFF == ord('q'):\n",
    "        break\n"
   ]
  },
  {
   "cell_type": "code",
   "execution_count": null,
   "id": "4e294592",
   "metadata": {},
   "outputs": [],
   "source": []
  }
 ],
 "metadata": {
  "kernelspec": {
   "display_name": "Python 3 (ipykernel)",
   "language": "python",
   "name": "python3"
  },
  "language_info": {
   "codemirror_mode": {
    "name": "ipython",
    "version": 3
   },
   "file_extension": ".py",
   "mimetype": "text/x-python",
   "name": "python",
   "nbconvert_exporter": "python",
   "pygments_lexer": "ipython3",
   "version": "3.11.4"
  }
 },
 "nbformat": 4,
 "nbformat_minor": 5
}
